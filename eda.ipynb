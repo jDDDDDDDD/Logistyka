{
 "cells": [
  {
   "cell_type": "code",
   "execution_count": 1,
   "metadata": {},
   "outputs": [],
   "source": [
    "import pandas as pd\n",
    "import numpy as np\n",
    "import matplotlib.pyplot as plt\n",
    "import seaborn as sns"
   ]
  },
  {
   "cell_type": "code",
   "execution_count": 6,
   "metadata": {},
   "outputs": [
    {
     "data": {
      "text/html": [
       "<div>\n",
       "<style scoped>\n",
       "    .dataframe tbody tr th:only-of-type {\n",
       "        vertical-align: middle;\n",
       "    }\n",
       "\n",
       "    .dataframe tbody tr th {\n",
       "        vertical-align: top;\n",
       "    }\n",
       "\n",
       "    .dataframe thead th {\n",
       "        text-align: right;\n",
       "    }\n",
       "</style>\n",
       "<table border=\"1\" class=\"dataframe\">\n",
       "  <thead>\n",
       "    <tr style=\"text-align: right;\">\n",
       "      <th></th>\n",
       "      <th>Stop Cons.</th>\n",
       "      <th>distance</th>\n",
       "      <th>Total freight cost EUR</th>\n",
       "      <th>Total gross kg</th>\n",
       "      <th>Volume m3</th>\n",
       "      <th>Collection</th>\n",
       "      <th>Disp. dt.</th>\n",
       "      <th>Csee</th>\n",
       "      <th>City</th>\n",
       "      <th>Posta Code</th>\n",
       "      <th>CntryD</th>\n",
       "      <th>Type of transport</th>\n",
       "      <th>Forwarder</th>\n",
       "      <th>Incoterms</th>\n",
       "    </tr>\n",
       "  </thead>\n",
       "  <tbody>\n",
       "    <tr>\n",
       "      <th>0</th>\n",
       "      <td>False</td>\n",
       "      <td>9983.0</td>\n",
       "      <td>156.606</td>\n",
       "      <td>40.0</td>\n",
       "      <td>12</td>\n",
       "      <td>DC Trosa</td>\n",
       "      <td>2021-01-25</td>\n",
       "      <td>AB Singapore Pte Ltd</td>\n",
       "      <td>SINGAPORE</td>\n",
       "      <td>498801</td>\n",
       "      <td>SG</td>\n",
       "      <td>air</td>\n",
       "      <td>DHL</td>\n",
       "      <td>DAP</td>\n",
       "    </tr>\n",
       "    <tr>\n",
       "      <th>1</th>\n",
       "      <td>False</td>\n",
       "      <td>9983.0</td>\n",
       "      <td>535.000</td>\n",
       "      <td>14.7</td>\n",
       "      <td>21</td>\n",
       "      <td>DC Trosa</td>\n",
       "      <td>2021-01-21</td>\n",
       "      <td>AB Singapore Pte Ltd</td>\n",
       "      <td>SINGAPORE</td>\n",
       "      <td>408934</td>\n",
       "      <td>SG</td>\n",
       "      <td>air</td>\n",
       "      <td>Geodis</td>\n",
       "      <td>DAP</td>\n",
       "    </tr>\n",
       "    <tr>\n",
       "      <th>2</th>\n",
       "      <td>False</td>\n",
       "      <td>9983.0</td>\n",
       "      <td>423.476</td>\n",
       "      <td>99.0</td>\n",
       "      <td>341</td>\n",
       "      <td>DC Trosa</td>\n",
       "      <td>2021-01-21</td>\n",
       "      <td>AB Singapore Pte Ltd</td>\n",
       "      <td>Singapore</td>\n",
       "      <td>408934</td>\n",
       "      <td>SG</td>\n",
       "      <td>air</td>\n",
       "      <td>DHL</td>\n",
       "      <td>DAP</td>\n",
       "    </tr>\n",
       "    <tr>\n",
       "      <th>3</th>\n",
       "      <td>False</td>\n",
       "      <td>9983.0</td>\n",
       "      <td>63.461</td>\n",
       "      <td>2.2</td>\n",
       "      <td>34</td>\n",
       "      <td>DC Trosa</td>\n",
       "      <td>2021-01-19</td>\n",
       "      <td>AB Singapore Pte Ltd</td>\n",
       "      <td>SINGAPORE</td>\n",
       "      <td>629043</td>\n",
       "      <td>SG</td>\n",
       "      <td>air</td>\n",
       "      <td>DHL</td>\n",
       "      <td>DAP</td>\n",
       "    </tr>\n",
       "    <tr>\n",
       "      <th>4</th>\n",
       "      <td>False</td>\n",
       "      <td>9983.0</td>\n",
       "      <td>164.937</td>\n",
       "      <td>44.0</td>\n",
       "      <td>324</td>\n",
       "      <td>DC Trosa</td>\n",
       "      <td>2021-01-19</td>\n",
       "      <td>AB Singapore Pte Ltd</td>\n",
       "      <td>SINGAPORE</td>\n",
       "      <td>627608</td>\n",
       "      <td>SG</td>\n",
       "      <td>air</td>\n",
       "      <td>DHL</td>\n",
       "      <td>DAP</td>\n",
       "    </tr>\n",
       "  </tbody>\n",
       "</table>\n",
       "</div>"
      ],
      "text/plain": [
       "   Stop Cons.  distance  Total freight cost EUR  Total gross kg Volume m3  \\\n",
       "0       False    9983.0                 156.606            40.0        12   \n",
       "1       False    9983.0                 535.000            14.7        21   \n",
       "2       False    9983.0                 423.476            99.0       341   \n",
       "3       False    9983.0                  63.461             2.2        34   \n",
       "4       False    9983.0                 164.937            44.0       324   \n",
       "\n",
       "  Collection  Disp. dt.                  Csee       City Posta Code CntryD  \\\n",
       "0   DC Trosa 2021-01-25  AB Singapore Pte Ltd  SINGAPORE     498801     SG   \n",
       "1   DC Trosa 2021-01-21  AB Singapore Pte Ltd  SINGAPORE     408934     SG   \n",
       "2   DC Trosa 2021-01-21  AB Singapore Pte Ltd  Singapore     408934     SG   \n",
       "3   DC Trosa 2021-01-19  AB Singapore Pte Ltd  SINGAPORE     629043     SG   \n",
       "4   DC Trosa 2021-01-19  AB Singapore Pte Ltd  SINGAPORE     627608     SG   \n",
       "\n",
       "  Type of transport Forwarder Incoterms  \n",
       "0               air       DHL       DAP  \n",
       "1               air    Geodis       DAP  \n",
       "2               air       DHL       DAP  \n",
       "3               air       DHL       DAP  \n",
       "4               air       DHL       DAP  "
      ]
     },
     "execution_count": 6,
     "metadata": {},
     "output_type": "execute_result"
    }
   ],
   "source": [
    "df = pd.read_excel('Projekt II - outband SE.xlsx')\n",
    "df.head()\n"
   ]
  },
  {
   "cell_type": "code",
   "execution_count": 7,
   "metadata": {},
   "outputs": [
    {
     "name": "stdout",
     "output_type": "stream",
     "text": [
      "<class 'pandas.core.frame.DataFrame'>\n",
      "RangeIndex: 5247 entries, 0 to 5246\n",
      "Data columns (total 14 columns):\n",
      " #   Column                  Non-Null Count  Dtype         \n",
      "---  ------                  --------------  -----         \n",
      " 0   Stop Cons.              5247 non-null   bool          \n",
      " 1   distance                5247 non-null   float64       \n",
      " 2   Total freight cost EUR  5247 non-null   float64       \n",
      " 3   Total gross kg          5247 non-null   float64       \n",
      " 4   Volume m3               5247 non-null   object        \n",
      " 5   Collection              5247 non-null   object        \n",
      " 6   Disp. dt.               5247 non-null   datetime64[ns]\n",
      " 7   Csee                    5247 non-null   object        \n",
      " 8   City                    5247 non-null   object        \n",
      " 9   Posta Code              5247 non-null   object        \n",
      " 10  CntryD                  5247 non-null   object        \n",
      " 11  Type of transport       5247 non-null   object        \n",
      " 12  Forwarder               5247 non-null   object        \n",
      " 13  Incoterms               5247 non-null   object        \n",
      "dtypes: bool(1), datetime64[ns](1), float64(3), object(9)\n",
      "memory usage: 538.2+ KB\n"
     ]
    }
   ],
   "source": [
    "df.info()"
   ]
  },
  {
   "cell_type": "code",
   "execution_count": 8,
   "metadata": {},
   "outputs": [
    {
     "data": {
      "text/html": [
       "<div>\n",
       "<style scoped>\n",
       "    .dataframe tbody tr th:only-of-type {\n",
       "        vertical-align: middle;\n",
       "    }\n",
       "\n",
       "    .dataframe tbody tr th {\n",
       "        vertical-align: top;\n",
       "    }\n",
       "\n",
       "    .dataframe thead th {\n",
       "        text-align: right;\n",
       "    }\n",
       "</style>\n",
       "<table border=\"1\" class=\"dataframe\">\n",
       "  <thead>\n",
       "    <tr style=\"text-align: right;\">\n",
       "      <th></th>\n",
       "      <th>distance</th>\n",
       "      <th>Total freight cost EUR</th>\n",
       "      <th>Total gross kg</th>\n",
       "      <th>Disp. dt.</th>\n",
       "    </tr>\n",
       "  </thead>\n",
       "  <tbody>\n",
       "    <tr>\n",
       "      <th>count</th>\n",
       "      <td>5247.000000</td>\n",
       "      <td>5247.000000</td>\n",
       "      <td>5247.000000</td>\n",
       "      <td>5247</td>\n",
       "    </tr>\n",
       "    <tr>\n",
       "      <th>mean</th>\n",
       "      <td>5966.949014</td>\n",
       "      <td>410.860123</td>\n",
       "      <td>180.819784</td>\n",
       "      <td>2019-12-27 11:43:23.773584896</td>\n",
       "    </tr>\n",
       "    <tr>\n",
       "      <th>min</th>\n",
       "      <td>995.000000</td>\n",
       "      <td>1.650000</td>\n",
       "      <td>0.050000</td>\n",
       "      <td>2018-10-22 00:00:00</td>\n",
       "    </tr>\n",
       "    <tr>\n",
       "      <th>25%</th>\n",
       "      <td>1667.000000</td>\n",
       "      <td>21.420000</td>\n",
       "      <td>0.900000</td>\n",
       "      <td>2019-06-14 00:00:00</td>\n",
       "    </tr>\n",
       "    <tr>\n",
       "      <th>50%</th>\n",
       "      <td>6812.000000</td>\n",
       "      <td>72.597000</td>\n",
       "      <td>6.140000</td>\n",
       "      <td>2020-01-07 00:00:00</td>\n",
       "    </tr>\n",
       "    <tr>\n",
       "      <th>75%</th>\n",
       "      <td>7639.500000</td>\n",
       "      <td>413.770500</td>\n",
       "      <td>88.500000</td>\n",
       "      <td>2020-07-22 00:00:00</td>\n",
       "    </tr>\n",
       "    <tr>\n",
       "      <th>max</th>\n",
       "      <td>23442.616000</td>\n",
       "      <td>8872.500000</td>\n",
       "      <td>26988.100000</td>\n",
       "      <td>2021-01-27 00:00:00</td>\n",
       "    </tr>\n",
       "    <tr>\n",
       "      <th>std</th>\n",
       "      <td>3986.360339</td>\n",
       "      <td>795.795752</td>\n",
       "      <td>666.967147</td>\n",
       "      <td>NaN</td>\n",
       "    </tr>\n",
       "  </tbody>\n",
       "</table>\n",
       "</div>"
      ],
      "text/plain": [
       "           distance  Total freight cost EUR  Total gross kg  \\\n",
       "count   5247.000000             5247.000000     5247.000000   \n",
       "mean    5966.949014              410.860123      180.819784   \n",
       "min      995.000000                1.650000        0.050000   \n",
       "25%     1667.000000               21.420000        0.900000   \n",
       "50%     6812.000000               72.597000        6.140000   \n",
       "75%     7639.500000              413.770500       88.500000   \n",
       "max    23442.616000             8872.500000    26988.100000   \n",
       "std     3986.360339              795.795752      666.967147   \n",
       "\n",
       "                           Disp. dt.  \n",
       "count                           5247  \n",
       "mean   2019-12-27 11:43:23.773584896  \n",
       "min              2018-10-22 00:00:00  \n",
       "25%              2019-06-14 00:00:00  \n",
       "50%              2020-01-07 00:00:00  \n",
       "75%              2020-07-22 00:00:00  \n",
       "max              2021-01-27 00:00:00  \n",
       "std                              NaN  "
      ]
     },
     "execution_count": 8,
     "metadata": {},
     "output_type": "execute_result"
    }
   ],
   "source": [
    "df.describe()"
   ]
  },
  {
   "cell_type": "code",
   "execution_count": 9,
   "metadata": {},
   "outputs": [
    {
     "data": {
      "text/plain": [
       "City\n",
       "GREENWOOD, IN      2258\n",
       "Wieliczka          1676\n",
       "KUNSHAN             657\n",
       "SINGAPORE           317\n",
       "Singapore           195\n",
       "EXTON,PA            118\n",
       "NEW AUGUSTA, MS      21\n",
       "PUNE                  4\n",
       "singapore             1\n",
       "Name: count, dtype: int64"
      ]
     },
     "execution_count": 9,
     "metadata": {},
     "output_type": "execute_result"
    }
   ],
   "source": [
    "df['City'].value_counts()"
   ]
  },
  {
   "cell_type": "code",
   "execution_count": 13,
   "metadata": {},
   "outputs": [],
   "source": [
    "df['City']=df['City'].str.upper()"
   ]
  },
  {
   "cell_type": "code",
   "execution_count": 14,
   "metadata": {},
   "outputs": [
    {
     "data": {
      "text/plain": [
       "City\n",
       "GREENWOOD, IN      2258\n",
       "WIELICZKA          1676\n",
       "KUNSHAN             657\n",
       "SINGAPORE           513\n",
       "EXTON,PA            118\n",
       "NEW AUGUSTA, MS      21\n",
       "PUNE                  4\n",
       "Name: count, dtype: int64"
      ]
     },
     "execution_count": 14,
     "metadata": {},
     "output_type": "execute_result"
    }
   ],
   "source": [
    "df['City'].value_counts()"
   ]
  },
  {
   "cell_type": "code",
   "execution_count": 20,
   "metadata": {},
   "outputs": [
    {
     "data": {
      "text/plain": [
       "City             distance \n",
       "EXTON,PA         6812.000      118\n",
       "GREENWOOD, IN    6812.000     1984\n",
       "                 7639.500      274\n",
       "KUNSHAN          7548.000       17\n",
       "                 8123.000      430\n",
       "                 10448.000     101\n",
       "                 23442.616     109\n",
       "NEW AUGUSTA, MS  6812.000       21\n",
       "PUNE             6619.000        3\n",
       "                 14291.884       1\n",
       "SINGAPORE        9983.000      511\n",
       "                 18310.724       2\n",
       "WIELICZKA        995.000       661\n",
       "                 1667.000     1015\n",
       "Name: Stop Cons., dtype: int64"
      ]
     },
     "execution_count": 20,
     "metadata": {},
     "output_type": "execute_result"
    }
   ],
   "source": [
    "df.groupby(['City', 'distance'])['Stop Cons.'].agg('count')"
   ]
  },
  {
   "cell_type": "code",
   "execution_count": 15,
   "metadata": {},
   "outputs": [
    {
     "data": {
      "image/png": "[encoded data removed]",
      "text/plain": [
       "<Figure size 640x480 with 1 Axes>"
      ]
     },
     "metadata": {},
     "output_type": "display_data"
    }
   ],
   "source": [
    "sns.countplot(data=df, x='Incoterms')\n",
    "plt.show()"
   ]
  },
  {
   "cell_type": "code",
   "execution_count": 22,
   "metadata": {},
   "outputs": [
    {
     "data": {
      "image/png": "[encoded data removed]",
      "text/plain": [
       "<Figure size 640x480 with 1 Axes>"
      ]
     },
     "metadata": {},
     "output_type": "display_data"
    }
   ],
   "source": [
    "sns.countplot(data=df, y='Forwarder')\n",
    "plt.show()"
   ]
  }
 ],
 "metadata": {
  "kernelspec": {
   "display_name": "Python 3",
   "language": "python",
   "name": "python3"
  },
  "language_info": {
   "codemirror_mode": {
    "name": "ipython",
    "version": 3
   },
   "file_extension": ".py",
   "mimetype": "text/x-python",
   "name": "python",
   "nbconvert_exporter": "python",
   "pygments_lexer": "ipython3",
   "version": "3.11.6"
  }
 },
 "nbformat": 4,
 "nbformat_minor": 2
}
